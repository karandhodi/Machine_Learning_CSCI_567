{
 "cells": [
  {
   "cell_type": "markdown",
   "metadata": {},
   "source": [
    "# Programming Homework 1\n",
    "\n",
    "## Instructions\n",
    "\n",
    "- Do not import other libraries. You are only allowed to use Math, Numpy, Scipy packages which are already imported in the file.\n",
    "- Please follow the type annotations. There are some type annotations of the parameters of function calls and return values. Please use Python 3.5 or 3.6 (for full support of typing annotations). You can use Numpy/Scipy inside the function.  You have to make the functions’ return values match the required type.\n",
    "- In this programming assignment you will to implement **k-Nearest Neighbours and Decision Tree**. We provide the bootstrap code and you are expected to complete the **classes** and **functions**.\n",
    "- Download all files of PA1 from Vocareum and save in the same folder.\n",
    "- Only modifications in files {`hw1_knn.py`, `hw1_dt.py`, `utils.py`} will be accepted and graded. All other modifications will be ignored. Submit those three files on Vocareum once you have finished. Which means you need to delete unnecessary files before you submit your work on Vocareum."
   ]
  },
  {
   "cell_type": "markdown",
   "metadata": {},
   "source": [
    "## Office Hour:\n",
    "```\n",
    "Week 2\n",
    "Jan. 14th Monday\tLVL 2nd Floor-201B\t1:00pm to 3:00pm\tCheng-Ju Lin chengjul@usc.edu\n",
    "Jan. 15th Tuesday\tLVL 2nd Floor-201B\t1:00pm to 3:00pm\tYang Fang yangfang@usc.edu\n",
    "Jan. 17th Thursday\tLVL 2nd Floor-202B\t10:00am to 12:00pm\tYixian Di yixiandi@usc.edu\n",
    "Week 3\n",
    "Jan. 22th Tuesday\tSAL 125         \t11:00am to 1:00pm\tAshir Alam ashirala@usc.edu\n",
    "Jan. 23th Wednesday\tSAL 125         \t11:00am to 1:00pm\tAshir Alam ashirala@usc.edu\n",
    "Jan. 24th Thursday\tLVL 2nd Floor-202B\t10:00am to 12:00pm\tYixian Di yixiandi@usc.edu\n",
    "```"
   ]
  },
  {
   "cell_type": "markdown",
   "metadata": {},
   "source": [
    "## Problem 1: K-nearest neighbor (KNN) for binary classification (50 points)"
   ]
  },
  {
   "cell_type": "markdown",
   "metadata": {},
   "source": [
    "#### Some notes\n",
    "\n",
    "In this task, we will use four distance functions: (we removed the vector symbol for simplicity)\n",
    "\n",
    "- Euclidean distance:  $$d(x, y) = \\sqrt{\\langle x - y, x - y \\rangle}$$\n",
    "- Inner product distance: $$d(x, y ) = \\langle x, y \\rangle$$\n",
    "- Gaussian kernel distance: \n",
    "    $$d(x, y ) = - \\exp({−\\frac 12 \\langle x - y, x - y \\rangle}) $$\n",
    "- Cosine Distance: $$d(x, y) =\\cos(\\theta )={\\mathbf {x} \\cdot \\mathbf {y}  \\over \\|\\mathbf {x} \\|\\|\\mathbf {y} \\|}$$\n",
    "\n",
    "F1-score is a important metric for binary classification, as sometimes the accuracy metric has the false positive (a good example is in MLAPP book 2.2.3.1 “Example: medical diagnosis”, Page 29).\n",
    "We have provided a basic definition. For more you can read 5.7.2.3 from MLAPP book.\n",
    "\n",
    "<img src=\"F1Score.png\">\n"
   ]
  },
  {
   "cell_type": "markdown",
   "metadata": {},
   "source": [
    "### Part 1.1 Distance Functions\n",
    "\n",
    "Implement the class in file *hw1_knn.py*\n",
    "    - KNN\n",
    "    \n",
    "and the functions in *utils.py*    \n",
    "    - f1_score\n",
    "    - euclidean_distance\n",
    "    - inner_product_distance\n",
    "    - gaussian_kernel_distance\n",
    "    - cosine distance"
   ]
  },
  {
   "cell_type": "code",
   "execution_count": 126,
   "metadata": {},
   "outputs": [
    {
     "name": "stdout",
     "output_type": "stream",
     "text": [
      "The autoreload extension is already loaded. To reload it, use:\n",
      "  %reload_ext autoreload\n"
     ]
    }
   ],
   "source": [
    "# for auto-reloading external modules\n",
    "# see http://stackoverflow.com/questions/1907993/autoreload-of-modules-in-ipython\n",
    "%load_ext autoreload\n",
    "%autoreload 2\n",
    "import numpy as np\n",
    "from hw1_knn import KNN\n",
    "from utils import euclidean_distance, gaussian_kernel_distance, inner_product_distance, cosine_sim_distance\n",
    "from utils import f1_score\n",
    "distance_funcs = {\n",
    "    'euclidean': euclidean_distance,\n",
    "    'gaussian': gaussian_kernel_distance,\n",
    "    'inner_prod': inner_product_distance,\n",
    "    'cosine_dist': cosine_sim_distance,\n",
    "}"
   ]
  },
  {
   "cell_type": "markdown",
   "metadata": {},
   "source": [
    "#### Data processing \n",
    "\n",
    "Do the following steps:\n",
    "\n",
    "- Load data (features and values) from function generate data_processing\n",
    "- Check that there are 303 data samples and each sample have a feature vector of length 14.\n",
    "- Split the whole data set into three parts:\n",
    "     - the train set contains 80% samples,\n",
    "     - the validation set contains the next 15% samples,\n",
    "     - the test set contains the rest 5% samples."
   ]
  },
  {
   "cell_type": "code",
   "execution_count": 127,
   "metadata": {},
   "outputs": [
    {
     "data": {
      "text/plain": [
       "(array([[ 1., 52.,  1., ...,  1.,  3.,  7.],\n",
       "        [ 1., 48.,  1., ...,  1.,  2.,  7.],\n",
       "        [ 1., 58.,  0., ...,  1.,  2.,  3.],\n",
       "        ...,\n",
       "        [ 1., 41.,  1., ...,  1.,  0.,  7.],\n",
       "        [ 1., 62.,  1., ...,  2.,  2.,  7.],\n",
       "        [ 1., 45.,  1., ...,  2.,  0.,  7.]]),\n",
       " array([0., 1., 1., 1., 0., 0., 1., 0., 1., 0., 1., 0., 0., 0., 0., 1., 1.,\n",
       "        0., 0., 1., 1., 0., 0., 0., 1., 0., 0., 1., 1., 0., 0., 0., 1., 1.,\n",
       "        0., 0., 0., 1., 0., 1., 0., 0., 0., 0., 1., 0., 0., 1., 1., 1., 1.,\n",
       "        1., 1., 1., 0., 0., 1., 0., 0., 0., 1., 0., 0., 0., 1., 1., 0., 0.,\n",
       "        0., 1., 1., 1., 0., 1., 0., 0., 0., 0., 0., 1., 1., 0., 0., 1., 1.,\n",
       "        0., 0., 1., 0., 1., 0., 1., 0., 0., 1., 1., 1., 0., 0., 0., 1., 0.,\n",
       "        0., 1., 1., 1., 1., 0., 1., 1., 0., 0., 0., 0., 0., 0., 0., 1., 0.,\n",
       "        0., 0., 1., 0., 1., 1., 0., 1., 0., 0., 0., 0., 0., 0., 1., 1., 0.,\n",
       "        1., 0., 0., 1., 1., 1., 1., 1., 0., 0., 1., 0., 0., 0., 0., 0., 1.,\n",
       "        0., 0., 0., 0., 0., 1., 0., 0., 0., 1., 0., 1., 1., 1., 1., 0., 0.,\n",
       "        1., 0., 0., 0., 0., 1., 0., 1., 1., 0., 1., 0., 1., 1., 0., 1., 0.,\n",
       "        1., 1., 1., 0., 0., 0., 1., 1., 1., 1., 0., 0., 0., 0., 1., 1., 1.,\n",
       "        0., 0., 1., 0., 0., 1., 0., 0., 0., 0., 0., 0., 0., 0., 1., 1., 1.,\n",
       "        1., 1., 0., 1., 0., 0., 1., 1., 0., 0., 0., 1., 0., 1., 1., 0., 0.,\n",
       "        0., 1., 1., 1.]))"
      ]
     },
     "execution_count": 127,
     "metadata": {},
     "output_type": "execute_result"
    }
   ],
   "source": [
    "from data import data_processing\n",
    "Xtrain, ytrain, Xval, yval, Xtest, ytest = data_processing()\n",
    "\n",
    "Xtrain, ytrain"
   ]
  },
  {
   "cell_type": "markdown",
   "metadata": {},
   "source": [
    "#### Model selection \n",
    "In kNN model, the parameter k is a hyper-parameter. In this task, we search for the best k."
   ]
  },
  {
   "cell_type": "code",
   "execution_count": 128,
   "metadata": {},
   "outputs": [
    {
     "name": "stdout",
     "output_type": "stream",
     "text": [
      "[part 1.1] euclidean\tk: 1\ttrain: 0.99038\tvalid: 0.60870\n",
      "[part 1.1] euclidean\tk: 2\ttrain: 0.79848\tvalid: 0.80000\n",
      "[part 1.1] euclidean\tk: 3\ttrain: 0.72727\tvalid: 0.76596\n",
      "[part 1.1] euclidean\tk: 4\ttrain: 0.74790\tvalid: 0.79245\n",
      "[part 1.1] euclidean\tk: 5\ttrain: 0.68966\tvalid: 0.68085\n",
      "[part 1.1] euclidean\tk: 6\ttrain: 0.70690\tvalid: 0.75472\n",
      "[part 1.1] euclidean\tk: 7\ttrain: 0.66332\tvalid: 0.72000\n",
      "[part 1.1] euclidean\tk: 8\ttrain: 0.67890\tvalid: 0.74510\n",
      "[part 1.1] euclidean\tk: 9\ttrain: 0.65263\tvalid: 0.72340\n",
      "[part 1.1] euclidean\tk: 10\ttrain: 0.66359\tvalid: 0.78431\n",
      "[part 1.1] gaussian\tk: 1\ttrain: 0.99038\tvalid: 0.60870\n",
      "[part 1.1] gaussian\tk: 2\ttrain: 0.79245\tvalid: 0.80000\n",
      "[part 1.1] gaussian\tk: 3\ttrain: 0.71770\tvalid: 0.76596\n",
      "[part 1.1] gaussian\tk: 4\ttrain: 0.74074\tvalid: 0.81481\n",
      "[part 1.1] gaussian\tk: 5\ttrain: 0.68627\tvalid: 0.68085\n",
      "[part 1.1] gaussian\tk: 6\ttrain: 0.69748\tvalid: 0.75472\n",
      "[part 1.1] gaussian\tk: 7\ttrain: 0.66010\tvalid: 0.72000\n",
      "[part 1.1] gaussian\tk: 8\ttrain: 0.66667\tvalid: 0.74510\n",
      "[part 1.1] gaussian\tk: 9\ttrain: 0.65625\tvalid: 0.69565\n",
      "[part 1.1] gaussian\tk: 10\ttrain: 0.66359\tvalid: 0.76000\n",
      "[part 1.1] inner_prod\tk: 1\ttrain: 0.62179\tvalid: 0.69565\n",
      "[part 1.1] inner_prod\tk: 2\ttrain: 0.60519\tvalid: 0.75000\n",
      "[part 1.1] inner_prod\tk: 3\ttrain: 0.03604\tvalid: 0.00000\n",
      "[part 1.1] inner_prod\tk: 4\ttrain: 0.03604\tvalid: 0.00000\n",
      "[part 1.1] inner_prod\tk: 5\ttrain: 0.03604\tvalid: 0.00000\n",
      "[part 1.1] inner_prod\tk: 6\ttrain: 0.03604\tvalid: 0.00000\n",
      "[part 1.1] inner_prod\tk: 7\ttrain: 0.03604\tvalid: 0.00000\n",
      "[part 1.1] inner_prod\tk: 8\ttrain: 0.03333\tvalid: 0.00000\n",
      "[part 1.1] inner_prod\tk: 9\ttrain: 0.00000\tvalid: 0.00000\n",
      "[part 1.1] inner_prod\tk: 10\ttrain: 0.17949\tvalid: 0.19355\n",
      "[part 1.1] cosine_dist\tk: 1\ttrain: 0.00000\tvalid: 0.00000\n",
      "[part 1.1] cosine_dist\tk: 2\ttrain: 0.16970\tvalid: 0.11429\n",
      "[part 1.1] cosine_dist\tk: 3\ttrain: 0.06557\tvalid: 0.00000\n",
      "[part 1.1] cosine_dist\tk: 4\ttrain: 0.18079\tvalid: 0.05405\n",
      "[part 1.1] cosine_dist\tk: 5\ttrain: 0.11268\tvalid: 0.00000\n",
      "[part 1.1] cosine_dist\tk: 6\ttrain: 0.17442\tvalid: 0.17143\n",
      "[part 1.1] cosine_dist\tk: 7\ttrain: 0.15758\tvalid: 0.06061\n",
      "[part 1.1] cosine_dist\tk: 8\ttrain: 0.21622\tvalid: 0.16216\n",
      "[part 1.1] cosine_dist\tk: 9\ttrain: 0.19101\tvalid: 0.16667\n",
      "[part 1.1] cosine_dist\tk: 10\ttrain: 0.21739\tvalid: 0.20000\n",
      "\n",
      "[part 1.1] gaussian\tbest_k: 4\ttest f1 score: 0.93333\n",
      "\n"
     ]
    }
   ],
   "source": [
    "best_k, best_model = KNN.model_selection_without_normalization(distance_funcs, Xtrain, ytrain, f1_score, Xval, yval, Xtest, ytest)"
   ]
  },
  {
   "cell_type": "markdown",
   "metadata": {},
   "source": [
    "#### Classification\n",
    "Here we are trying to do classification on another test set. You can make up your own data. However, we will test it on another dataset."
   ]
  },
  {
   "cell_type": "code",
   "execution_count": 129,
   "metadata": {},
   "outputs": [
    {
     "ename": "IndexError",
     "evalue": "index 14 is out of bounds for axis 0 with size 14",
     "output_type": "error",
     "traceback": [
      "\u001b[0;31m---------------------------------------------------------------------------\u001b[0m",
      "\u001b[0;31mIndexError\u001b[0m                                Traceback (most recent call last)",
      "\u001b[0;32m<ipython-input-129-9553304c92a5>\u001b[0m in \u001b[0;36m<module>\u001b[0;34m()\u001b[0m\n\u001b[0;32m----> 1\u001b[0;31m \u001b[0mKNN\u001b[0m\u001b[0;34m.\u001b[0m\u001b[0mtest_classify\u001b[0m\u001b[0;34m(\u001b[0m\u001b[0mbest_model\u001b[0m\u001b[0;34m)\u001b[0m\u001b[0;34m\u001b[0m\u001b[0m\n\u001b[0m",
      "\u001b[0;32m~/Desktop/PA1/hw1_knn.py\u001b[0m in \u001b[0;36mtest_classify\u001b[0;34m(model)\u001b[0m\n\u001b[1;32m    158\u001b[0m         \u001b[0;32mfrom\u001b[0m \u001b[0mdata\u001b[0m \u001b[0;32mimport\u001b[0m \u001b[0mtest_processing\u001b[0m\u001b[0;34m\u001b[0m\u001b[0m\n\u001b[1;32m    159\u001b[0m         \u001b[0mXtest\u001b[0m \u001b[0;34m=\u001b[0m \u001b[0mtest_processing\u001b[0m\u001b[0;34m(\u001b[0m\u001b[0;34m)\u001b[0m\u001b[0;34m\u001b[0m\u001b[0m\n\u001b[0;32m--> 160\u001b[0;31m         \u001b[0mmodel\u001b[0m\u001b[0;34m.\u001b[0m\u001b[0mpredict\u001b[0m\u001b[0;34m(\u001b[0m\u001b[0mXtest\u001b[0m\u001b[0;34m)\u001b[0m\u001b[0;34m\u001b[0m\u001b[0m\n\u001b[0m\u001b[1;32m    161\u001b[0m \u001b[0;34m\u001b[0m\u001b[0m\n\u001b[1;32m    162\u001b[0m \u001b[0;34m\u001b[0m\u001b[0m\n",
      "\u001b[0;32m~/Desktop/PA1/hw1_knn.py\u001b[0m in \u001b[0;36mpredict\u001b[0;34m(self, features)\u001b[0m\n\u001b[1;32m     35\u001b[0m \u001b[0;34m\u001b[0m\u001b[0m\n\u001b[1;32m     36\u001b[0m             \u001b[0;32mfor\u001b[0m \u001b[0mj\u001b[0m \u001b[0;32min\u001b[0m \u001b[0mself\u001b[0m\u001b[0;34m.\u001b[0m\u001b[0mfeatures\u001b[0m\u001b[0;34m:\u001b[0m\u001b[0;34m\u001b[0m\u001b[0m\n\u001b[0;32m---> 37\u001b[0;31m                 \u001b[0mdistances\u001b[0m\u001b[0;34m.\u001b[0m\u001b[0mappend\u001b[0m\u001b[0;34m(\u001b[0m\u001b[0mself\u001b[0m\u001b[0;34m.\u001b[0m\u001b[0mdistance_function\u001b[0m\u001b[0;34m(\u001b[0m\u001b[0mi\u001b[0m\u001b[0;34m,\u001b[0m \u001b[0mj\u001b[0m\u001b[0;34m)\u001b[0m\u001b[0;34m)\u001b[0m\u001b[0;34m\u001b[0m\u001b[0m\n\u001b[0m\u001b[1;32m     38\u001b[0m \u001b[0;34m\u001b[0m\u001b[0m\n\u001b[1;32m     39\u001b[0m             \u001b[0mindices\u001b[0m \u001b[0;34m=\u001b[0m \u001b[0mnp\u001b[0m\u001b[0;34m.\u001b[0m\u001b[0margpartition\u001b[0m\u001b[0;34m(\u001b[0m\u001b[0mdistances\u001b[0m\u001b[0;34m,\u001b[0m \u001b[0mself\u001b[0m\u001b[0;34m.\u001b[0m\u001b[0mk\u001b[0m\u001b[0;34m)\u001b[0m\u001b[0;34m\u001b[0m\u001b[0m\n",
      "\u001b[0;32m~/Desktop/PA1/utils.py\u001b[0m in \u001b[0;36mgaussian_kernel_distance\u001b[0;34m(point1, point2)\u001b[0m\n\u001b[1;32m    122\u001b[0m     \u001b[0mdistance\u001b[0m \u001b[0;34m=\u001b[0m \u001b[0;36m0\u001b[0m\u001b[0;34m\u001b[0m\u001b[0m\n\u001b[1;32m    123\u001b[0m     \u001b[0;32mfor\u001b[0m \u001b[0mi\u001b[0m \u001b[0;32min\u001b[0m \u001b[0mrange\u001b[0m\u001b[0;34m(\u001b[0m\u001b[0mlen\u001b[0m\u001b[0;34m(\u001b[0m\u001b[0mpoint1\u001b[0m\u001b[0;34m)\u001b[0m\u001b[0;34m)\u001b[0m\u001b[0;34m:\u001b[0m\u001b[0;34m\u001b[0m\u001b[0m\n\u001b[0;32m--> 124\u001b[0;31m         \u001b[0mdistance\u001b[0m \u001b[0;34m+=\u001b[0m \u001b[0mpow\u001b[0m\u001b[0;34m(\u001b[0m\u001b[0;34m(\u001b[0m\u001b[0mpoint1\u001b[0m\u001b[0;34m[\u001b[0m\u001b[0mi\u001b[0m\u001b[0;34m]\u001b[0m \u001b[0;34m-\u001b[0m \u001b[0mpoint2\u001b[0m\u001b[0;34m[\u001b[0m\u001b[0mi\u001b[0m\u001b[0;34m]\u001b[0m\u001b[0;34m)\u001b[0m\u001b[0;34m,\u001b[0m \u001b[0;36m2\u001b[0m\u001b[0;34m)\u001b[0m\u001b[0;34m\u001b[0m\u001b[0m\n\u001b[0m\u001b[1;32m    125\u001b[0m     \u001b[0mdistance1\u001b[0m \u001b[0;34m=\u001b[0m \u001b[0;34m-\u001b[0m\u001b[0mnp\u001b[0m\u001b[0;34m.\u001b[0m\u001b[0mexp\u001b[0m\u001b[0;34m(\u001b[0m\u001b[0;34m-\u001b[0m\u001b[0;36m0.5\u001b[0m \u001b[0;34m*\u001b[0m \u001b[0mdistance\u001b[0m\u001b[0;34m)\u001b[0m\u001b[0;34m\u001b[0m\u001b[0m\n\u001b[1;32m    126\u001b[0m     \u001b[0;32mreturn\u001b[0m \u001b[0mdistance1\u001b[0m\u001b[0;34m\u001b[0m\u001b[0m\n",
      "\u001b[0;31mIndexError\u001b[0m: index 14 is out of bounds for axis 0 with size 14"
     ]
    }
   ],
   "source": [
    "KNN.test_classify(best_model)"
   ]
  },
  {
   "cell_type": "markdown",
   "metadata": {},
   "source": [
    "### Part 1.2 Data transformation\n",
    "\n",
    "We are going to add one more step (data transformation) in the data processing part and see how it works. \n",
    "Sometimes, normalization plays an important role to make a machine learning model work (check term “Feature scaling” in wiki).\n",
    "\n",
    "Here, we take two different data transformation approaches.\n",
    "\n",
    "#### Normalizing the feature vector \n",
    "\n",
    "This one is simple but some times may work well. Given a feature vector $x$, the normalized feature vector is given by \n",
    "\n",
    "$$ x' = \\frac x {\\sqrt{\\langle x, x \\rangle}} $$\n",
    "If a vector is a all-zero vector, we let the normalized vector also be a all-zero vector.\n",
    "\n",
    "\n",
    "#### Min-max scaling the feature matrix\n",
    "\n",
    "The above normalization is data independent, that is to say, the output of the normalization function doesn’t depend on the rest training data. However, sometimes it would be helpful to do data dependent normalization. One thing to note is that, when doing data dependent normalization, we can only use training data, as the test data is assumed to be unknown during training (at least for most classification tasks).\n",
    "\n",
    "The min-max scaling works as follows: after min-max scaling, all values of training data’s feature vectors are in the given range.\n",
    "Note that this doesn’t mean the values of the validation/test data’s fea- tures are all in that range, because the validation/test data may have dif- ferent distribution as the training data."
   ]
  },
  {
   "cell_type": "markdown",
   "metadata": {},
   "source": [
    "**Implement** the functions in *utils.py*    \n",
    "    - normalize\n",
    "    - min_max_scale"
   ]
  },
  {
   "cell_type": "code",
   "execution_count": 65,
   "metadata": {
    "collapsed": true
   },
   "outputs": [],
   "source": [
    "from utils import NormalizationScaler, MinMaxScaler\n",
    "\n",
    "scaling_classes = {\n",
    "    'min_max_scale': MinMaxScaler,\n",
    "    'normalize': NormalizationScaler,\n",
    "}"
   ]
  },
  {
   "cell_type": "markdown",
   "metadata": {},
   "source": [
    "#### Model selection\n",
    "\n",
    "Repeat the model selection part in part 1.2."
   ]
  },
  {
   "cell_type": "code",
   "execution_count": 66,
   "metadata": {},
   "outputs": [
    {
     "name": "stdout",
     "output_type": "stream",
     "text": [
      "[part 1.2] euclidean\tmin_max_scale\tk: 1\ttrain: 0.00000\tvalid: 0.00000\n",
      "[part 1.2] euclidean\tmin_max_scale\tk: 2\ttrain: 0.62500\tvalid: 0.67647\n",
      "[part 1.2] euclidean\tmin_max_scale\tk: 3\ttrain: 0.62500\tvalid: 0.67647\n",
      "[part 1.2] euclidean\tmin_max_scale\tk: 4\ttrain: 0.62500\tvalid: 0.67647\n",
      "[part 1.2] euclidean\tmin_max_scale\tk: 5\ttrain: 0.62500\tvalid: 0.67647\n",
      "[part 1.2] euclidean\tmin_max_scale\tk: 6\ttrain: 0.62500\tvalid: 0.67647\n",
      "[part 1.2] euclidean\tmin_max_scale\tk: 7\ttrain: 0.62500\tvalid: 0.67647\n",
      "[part 1.2] euclidean\tmin_max_scale\tk: 8\ttrain: 0.62500\tvalid: 0.67647\n",
      "[part 1.2] euclidean\tmin_max_scale\tk: 9\ttrain: 0.62500\tvalid: 0.67647\n",
      "[part 1.2] euclidean\tmin_max_scale\tk: 10\ttrain: 0.62500\tvalid: 0.67647\n",
      "[part 1.2] gaussian\tmin_max_scale\tk: 1\ttrain: 0.00000\tvalid: 0.00000\n",
      "[part 1.2] gaussian\tmin_max_scale\tk: 2\ttrain: 0.62500\tvalid: 0.67647\n",
      "[part 1.2] gaussian\tmin_max_scale\tk: 3\ttrain: 0.62500\tvalid: 0.67647\n",
      "[part 1.2] gaussian\tmin_max_scale\tk: 4\ttrain: 0.62500\tvalid: 0.67647\n",
      "[part 1.2] gaussian\tmin_max_scale\tk: 5\ttrain: 0.62500\tvalid: 0.67647\n",
      "[part 1.2] gaussian\tmin_max_scale\tk: 6\ttrain: 0.62500\tvalid: 0.67647\n",
      "[part 1.2] gaussian\tmin_max_scale\tk: 7\ttrain: 0.62500\tvalid: 0.67647\n",
      "[part 1.2] gaussian\tmin_max_scale\tk: 8\ttrain: 0.62500\tvalid: 0.67647\n",
      "[part 1.2] gaussian\tmin_max_scale\tk: 9\ttrain: 0.62500\tvalid: 0.67647\n",
      "[part 1.2] gaussian\tmin_max_scale\tk: 10\ttrain: 0.62500\tvalid: 0.67647\n",
      "[part 1.2] inner_prod\tmin_max_scale\tk: 1\ttrain: 0.00000\tvalid: 0.00000\n",
      "[part 1.2] inner_prod\tmin_max_scale\tk: 2\ttrain: 0.62500\tvalid: 0.67647\n",
      "[part 1.2] inner_prod\tmin_max_scale\tk: 3\ttrain: 0.62500\tvalid: 0.67647\n",
      "[part 1.2] inner_prod\tmin_max_scale\tk: 4\ttrain: 0.62500\tvalid: 0.67647\n",
      "[part 1.2] inner_prod\tmin_max_scale\tk: 5\ttrain: 0.62500\tvalid: 0.67647\n",
      "[part 1.2] inner_prod\tmin_max_scale\tk: 6\ttrain: 0.62500\tvalid: 0.67647\n",
      "[part 1.2] inner_prod\tmin_max_scale\tk: 7\ttrain: 0.62500\tvalid: 0.67647\n",
      "[part 1.2] inner_prod\tmin_max_scale\tk: 8\ttrain: 0.62500\tvalid: 0.67647\n",
      "[part 1.2] inner_prod\tmin_max_scale\tk: 9\ttrain: 0.62500\tvalid: 0.67647\n",
      "[part 1.2] inner_prod\tmin_max_scale\tk: 10\ttrain: 0.62500\tvalid: 0.67647\n",
      "[part 1.2] cosine_dist\tmin_max_scale\tk: 1\ttrain: 0.00000\tvalid: 0.00000\n",
      "[part 1.2] cosine_dist\tmin_max_scale\tk: 2\ttrain: 0.62500\tvalid: 0.67647\n",
      "[part 1.2] cosine_dist\tmin_max_scale\tk: 3\ttrain: 0.62500\tvalid: 0.67647\n",
      "[part 1.2] cosine_dist\tmin_max_scale\tk: 4\ttrain: 0.62500\tvalid: 0.67647\n",
      "[part 1.2] cosine_dist\tmin_max_scale\tk: 5\ttrain: 0.62500\tvalid: 0.67647\n",
      "[part 1.2] cosine_dist\tmin_max_scale\tk: 6\ttrain: 0.62500\tvalid: 0.67647\n",
      "[part 1.2] cosine_dist\tmin_max_scale\tk: 7\ttrain: 0.62500\tvalid: 0.67647\n",
      "[part 1.2] cosine_dist\tmin_max_scale\tk: 8\ttrain: 0.62500\tvalid: 0.67647\n",
      "[part 1.2] cosine_dist\tmin_max_scale\tk: 9\ttrain: 0.62500\tvalid: 0.67647\n",
      "[part 1.2] cosine_dist\tmin_max_scale\tk: 10\ttrain: 0.62500\tvalid: 0.67647\n",
      "\n",
      "[part 1.2] euclidean\tmin_max_scale\tbest_k: 2\ttest: 0.54545\n",
      "\n",
      "[part 1.2] euclidean\tnormalize\tk: 1\ttrain: 0.99083\tvalid: 0.60870\n",
      "[part 1.2] euclidean\tnormalize\tk: 2\ttrain: 0.85271\tvalid: 0.67925\n",
      "[part 1.2] euclidean\tnormalize\tk: 3\ttrain: 0.81982\tvalid: 0.53659\n",
      "[part 1.2] euclidean\tnormalize\tk: 4\ttrain: 0.75502\tvalid: 0.76000\n",
      "[part 1.2] euclidean\tnormalize\tk: 5\ttrain: 0.73059\tvalid: 0.61905\n",
      "[part 1.2] euclidean\tnormalize\tk: 6\ttrain: 0.74380\tvalid: 0.72340\n",
      "[part 1.2] euclidean\tnormalize\tk: 7\ttrain: 0.70320\tvalid: 0.60465\n",
      "[part 1.2] euclidean\tnormalize\tk: 8\ttrain: 0.69828\tvalid: 0.72340\n",
      "[part 1.2] euclidean\tnormalize\tk: 9\ttrain: 0.67580\tvalid: 0.58537\n",
      "[part 1.2] euclidean\tnormalize\tk: 10\ttrain: 0.67521\tvalid: 0.66667\n",
      "[part 1.2] gaussian\tnormalize\tk: 1\ttrain: 0.99083\tvalid: 0.60870\n",
      "[part 1.2] gaussian\tnormalize\tk: 2\ttrain: 0.85271\tvalid: 0.67925\n",
      "[part 1.2] gaussian\tnormalize\tk: 3\ttrain: 0.81982\tvalid: 0.53659\n",
      "[part 1.2] gaussian\tnormalize\tk: 4\ttrain: 0.75502\tvalid: 0.76000\n",
      "[part 1.2] gaussian\tnormalize\tk: 5\ttrain: 0.73059\tvalid: 0.61905\n",
      "[part 1.2] gaussian\tnormalize\tk: 6\ttrain: 0.74380\tvalid: 0.72340\n",
      "[part 1.2] gaussian\tnormalize\tk: 7\ttrain: 0.70320\tvalid: 0.60465\n",
      "[part 1.2] gaussian\tnormalize\tk: 8\ttrain: 0.69828\tvalid: 0.72340\n",
      "[part 1.2] gaussian\tnormalize\tk: 9\ttrain: 0.67580\tvalid: 0.58537\n",
      "[part 1.2] gaussian\tnormalize\tk: 10\ttrain: 0.67521\tvalid: 0.66667\n",
      "[part 1.2] inner_prod\tnormalize\tk: 1\ttrain: 0.00000\tvalid: 0.00000\n",
      "[part 1.2] inner_prod\tnormalize\tk: 2\ttrain: 0.28426\tvalid: 0.25641\n",
      "[part 1.2] inner_prod\tnormalize\tk: 3\ttrain: 0.14103\tvalid: 0.12500\n",
      "[part 1.2] inner_prod\tnormalize\tk: 4\ttrain: 0.28571\tvalid: 0.29787\n",
      "[part 1.2] inner_prod\tnormalize\tk: 5\ttrain: 0.27230\tvalid: 0.28571\n",
      "[part 1.2] inner_prod\tnormalize\tk: 6\ttrain: 0.33051\tvalid: 0.33333\n",
      "[part 1.2] inner_prod\tnormalize\tk: 7\ttrain: 0.28708\tvalid: 0.28571\n",
      "[part 1.2] inner_prod\tnormalize\tk: 8\ttrain: 0.30000\tvalid: 0.31818\n",
      "[part 1.2] inner_prod\tnormalize\tk: 9\ttrain: 0.29108\tvalid: 0.27907\n",
      "[part 1.2] inner_prod\tnormalize\tk: 10\ttrain: 0.35294\tvalid: 0.32653\n",
      "[part 1.2] cosine_dist\tnormalize\tk: 1\ttrain: 0.00000\tvalid: 0.00000\n",
      "[part 1.2] cosine_dist\tnormalize\tk: 2\ttrain: 0.28426\tvalid: 0.25641\n",
      "[part 1.2] cosine_dist\tnormalize\tk: 3\ttrain: 0.14103\tvalid: 0.12500\n",
      "[part 1.2] cosine_dist\tnormalize\tk: 4\ttrain: 0.28571\tvalid: 0.29787\n",
      "[part 1.2] cosine_dist\tnormalize\tk: 5\ttrain: 0.27230\tvalid: 0.28571\n",
      "[part 1.2] cosine_dist\tnormalize\tk: 6\ttrain: 0.33051\tvalid: 0.33333\n",
      "[part 1.2] cosine_dist\tnormalize\tk: 7\ttrain: 0.28708\tvalid: 0.28571\n",
      "[part 1.2] cosine_dist\tnormalize\tk: 8\ttrain: 0.30000\tvalid: 0.31818\n",
      "[part 1.2] cosine_dist\tnormalize\tk: 9\ttrain: 0.29108\tvalid: 0.27907\n",
      "[part 1.2] cosine_dist\tnormalize\tk: 10\ttrain: 0.35294\tvalid: 0.32653\n",
      "\n",
      "[part 1.2] euclidean\tnormalize\tbest_k: 4\ttest: 0.62500\n",
      "\n"
     ]
    }
   ],
   "source": [
    "best_k, best_model = KNN.model_selection_with_transformation(distance_funcs,scaling_classes, Xtrain, ytrain, f1_score, Xval, yval, Xtest, ytest)"
   ]
  },
  {
   "cell_type": "markdown",
   "metadata": {},
   "source": [
    "## Grading Guideline for KNN\n",
    "1. UTILS function: 15 points <br>\n",
    "\n",
    "2. 2 functions in hw1_Knn (10 points- 5 each) <br>\n",
    "\n",
    "3. Finding best K before scaling - 10 points <br>\n",
    "\n",
    "4. Finding best K after scaling - 10 points <br>\n",
    "\n",
    "5. Doing classification of the data - 5 points <br>"
   ]
  },
  {
   "cell_type": "markdown",
   "metadata": {},
   "source": [
    "# Problem 2: Decision Tree (50 points)\n",
    "- Remember from lecture, we learned that we can use decision tree to solve classification and regression problem. Mostly we focus on classification.\n",
    "- In problem 1 we used KNN to do classification. We could use decision tree algorithm to do the same job.\n",
    "- For Decision Tree, we will implement ID3 algorithm. It's garanteed that all features are discrete.\n",
    "## Part 2.1 Implementation\n",
    "### 2.1.1\n",
    "- In ID3 algorithm, we use Entropy to measure the uncertainty in the data set. We use Information Gain to measure the quality of a split.\n",
    "- Entropy: H(S)=\\\\(\\sum_{x∈X} -p(x)log_2p(x)\\\\)\n",
    "- Information_Gain: IG(S,A) = H(S)-\\\\(\\sum_{t∈T}p(t)H(T)\\\\) = H(S) - H(S|A)\n",
    "- see more detail on [ID3 Algorithm](https://en.wikipedia.org/wiki/ID3_algorithm)\n",
    "In this section, you need to implement Information_Gain function on utils.py.\n",
    "```\n",
    "def Information_Gain(branches):\n",
    "# calculate information_gain according to branches seperated by one feature\n",
    "# input:\n",
    "    -branches: List[List[int]] for a specific attribute, number of cases belongs to each attribut value and class, num_attribute_values*num_classes\n",
    "# return: float\n",
    "```\n",
    "### 2.1.2 \n",
    "- In ID3 algorithm, we use the largest information gain to split the set S.\n",
    "- Here is the pseudo code of ID3 algorithm.\n",
    "```\n",
    "Algorithm 3 The recursive procedure of decision tree algorithm\n",
    "function TREENODE.SPLIT(self)\n",
    "    ﬁnd the best attribute to split the node\n",
    "    split the node into child nodes\n",
    "    for child node in child nodes do\n",
    "        if child node.splittable then .\n",
    "            child node.split()\n",
    "        end if\n",
    "    end for\n",
    "end function\n",
    "```\n",
    "- Implement TreeNode split function and TreeNode predict function in hw1_dt.py:\n",
    "    - TreeNode.split<br>\n",
    "    **Note: when there is a tie of information gain, always choose the attribute which has more attribute values. If they are all same, use the one with small index. Also build your child list with increasing order of attribute value.**\n",
    "    - TreeNode.predict\n",
    "```\n",
    "def TreeNode.split()\n",
    "# check if current node is splitable, try to split it with all possible features\n",
    "def TreeNode.predict()\n",
    "# predic according to current node:\n",
    "# if leaf node: return current leaf node label\n",
    "# if non-leaf node: split it to child node\n",
    "```\n",
    "- Implement Decision Tree predict and train function in hw1_dt.py:\n",
    "    - DecisionTree.train\n",
    "    - DecisionTree.predict\n",
    "\n",
    "```\n",
    "def DecisionTree.train(features, labels)\n",
    "# train decision tree based on training dataset, grow your decision tree from root node\n",
    "# input: \n",
    "    - features: List[List[any]] traning data, num_cases*num_attributes\n",
    "    - labels: List[any] traning labels, num_cases*1\n",
    "```"
   ]
  },
  {
   "cell_type": "markdown",
   "metadata": {},
   "source": [
    "## Part 2.2 Sanity Test\n",
    "Do the following steps, as a simple test to check your algorithm works well\n",
    "- Load training data (features and values) from function data.sample_decision_tree_data.\n",
    "- Create a Decision Tree based on training data.\n",
    "- Load test data from function data.sample_decision_tree_test.\n",
    "- Test the prediction function of your algorithm."
   ]
  },
  {
   "cell_type": "code",
   "execution_count": 8,
   "metadata": {},
   "outputs": [
    {
     "name": "stdout",
     "output_type": "stream",
     "text": [
      "branch 0{\n",
      "\tdeep: 0\n",
      "\tnum of samples for each class: 2 : 2 \n",
      "\tsplit by dim 0\n",
      "\tbranch 0->0{\n",
      "\t\tdeep: 1\n",
      "\t\tnum of samples for each class: 1 : 0 \n",
      "\t\tclass: 0\n",
      "\t}\n",
      "\tbranch 0->1{\n",
      "\t\tdeep: 1\n",
      "\t\tnum of samples for each class: 1 : 1 \n",
      "\t\tsplit by dim 1\n",
      "\t\tbranch 0->1->0{\n",
      "\t\t\tdeep: 2\n",
      "\t\t\tnum of samples for each class: 1 : 0 \n",
      "\t\t\tclass: 0\n",
      "\t\t}\n",
      "\t\tbranch 0->1->1{\n",
      "\t\t\tdeep: 2\n",
      "\t\t\tnum of samples for each class: 0 : 1 \n",
      "\t\t\tclass: 1\n",
      "\t\t}\n",
      "\t}\n",
      "\tbranch 0->2{\n",
      "\t\tdeep: 1\n",
      "\t\tnum of samples for each class: 0 : 1 \n",
      "\t\tclass: 1\n",
      "\t}\n",
      "}\n"
     ]
    }
   ],
   "source": [
    "import data\n",
    "import hw1_dt as decision_tree\n",
    "import utils as Utils\n",
    "from sklearn.metrics import accuracy_score\n",
    "\n",
    "features, labels = data.sample_decision_tree_data()\n",
    "\n",
    "# build the tree\n",
    "dTree = decision_tree.DecisionTree()\n",
    "dTree.train(features, labels)\n",
    "\n",
    "# print\n",
    "Utils.print_tree(dTree)"
   ]
  },
  {
   "cell_type": "code",
   "execution_count": 9,
   "metadata": {},
   "outputs": [
    {
     "ename": "ValueError",
     "evalue": "'b' is not in list",
     "output_type": "error",
     "traceback": [
      "\u001b[0;31m---------------------------------------------------------------------------\u001b[0m",
      "\u001b[0;31mValueError\u001b[0m                                Traceback (most recent call last)",
      "\u001b[0;32m<ipython-input-9-d88e332291c5>\u001b[0m in \u001b[0;36m<module>\u001b[0;34m()\u001b[0m\n\u001b[1;32m      3\u001b[0m \u001b[0;34m\u001b[0m\u001b[0m\n\u001b[1;32m      4\u001b[0m \u001b[0;31m# testing\u001b[0m\u001b[0;34m\u001b[0m\u001b[0;34m\u001b[0m\u001b[0m\n\u001b[0;32m----> 5\u001b[0;31m \u001b[0my_est_test\u001b[0m \u001b[0;34m=\u001b[0m \u001b[0mdTree\u001b[0m\u001b[0;34m.\u001b[0m\u001b[0mpredict\u001b[0m\u001b[0;34m(\u001b[0m\u001b[0mX_test\u001b[0m\u001b[0;34m)\u001b[0m\u001b[0;34m\u001b[0m\u001b[0m\n\u001b[0m\u001b[1;32m      6\u001b[0m \u001b[0mtest_accu\u001b[0m \u001b[0;34m=\u001b[0m \u001b[0maccuracy_score\u001b[0m\u001b[0;34m(\u001b[0m\u001b[0my_est_test\u001b[0m\u001b[0;34m,\u001b[0m \u001b[0my_test\u001b[0m\u001b[0;34m)\u001b[0m\u001b[0;34m\u001b[0m\u001b[0m\n\u001b[1;32m      7\u001b[0m \u001b[0mprint\u001b[0m\u001b[0;34m(\u001b[0m\u001b[0;34m'test_accu'\u001b[0m\u001b[0;34m,\u001b[0m \u001b[0mtest_accu\u001b[0m\u001b[0;34m)\u001b[0m\u001b[0;34m\u001b[0m\u001b[0m\n",
      "\u001b[0;32m~/Desktop/PA1/hw1_dt.py\u001b[0m in \u001b[0;36mpredict\u001b[0;34m(self, features)\u001b[0m\n\u001b[1;32m     40\u001b[0m         \u001b[0my_pred\u001b[0m \u001b[0;34m=\u001b[0m \u001b[0;34m[\u001b[0m\u001b[0;34m]\u001b[0m\u001b[0;34m\u001b[0m\u001b[0m\n\u001b[1;32m     41\u001b[0m         \u001b[0;32mfor\u001b[0m \u001b[0midx\u001b[0m\u001b[0;34m,\u001b[0m \u001b[0mfeature\u001b[0m \u001b[0;32min\u001b[0m \u001b[0menumerate\u001b[0m\u001b[0;34m(\u001b[0m\u001b[0mfeatures\u001b[0m\u001b[0;34m)\u001b[0m\u001b[0;34m:\u001b[0m\u001b[0;34m\u001b[0m\u001b[0m\n\u001b[0;32m---> 42\u001b[0;31m             \u001b[0mpred\u001b[0m \u001b[0;34m=\u001b[0m \u001b[0mself\u001b[0m\u001b[0;34m.\u001b[0m\u001b[0mroot_node\u001b[0m\u001b[0;34m.\u001b[0m\u001b[0mpredict\u001b[0m\u001b[0;34m(\u001b[0m\u001b[0mfeature\u001b[0m\u001b[0;34m)\u001b[0m\u001b[0;34m\u001b[0m\u001b[0m\n\u001b[0m\u001b[1;32m     43\u001b[0m             \u001b[0my_pred\u001b[0m\u001b[0;34m.\u001b[0m\u001b[0mappend\u001b[0m\u001b[0;34m(\u001b[0m\u001b[0mpred\u001b[0m\u001b[0;34m)\u001b[0m\u001b[0;34m\u001b[0m\u001b[0m\n\u001b[1;32m     44\u001b[0m             \u001b[0;31m# print (\"feature: \", feature)\u001b[0m\u001b[0;34m\u001b[0m\u001b[0;34m\u001b[0m\u001b[0m\n",
      "\u001b[0;32m~/Desktop/PA1/hw1_dt.py\u001b[0m in \u001b[0;36mpredict\u001b[0;34m(self, feature)\u001b[0m\n\u001b[1;32m    136\u001b[0m         \u001b[0;32mif\u001b[0m \u001b[0mself\u001b[0m\u001b[0;34m.\u001b[0m\u001b[0msplittable\u001b[0m\u001b[0;34m:\u001b[0m\u001b[0;34m\u001b[0m\u001b[0m\n\u001b[1;32m    137\u001b[0m             \u001b[0mdim_child\u001b[0m \u001b[0;34m=\u001b[0m \u001b[0mself\u001b[0m\u001b[0;34m.\u001b[0m\u001b[0mfeature_uniq_split\u001b[0m\u001b[0;34m.\u001b[0m\u001b[0mindex\u001b[0m\u001b[0;34m(\u001b[0m\u001b[0mfeature\u001b[0m\u001b[0;34m[\u001b[0m\u001b[0mself\u001b[0m\u001b[0;34m.\u001b[0m\u001b[0mdim_split\u001b[0m\u001b[0;34m]\u001b[0m\u001b[0;34m)\u001b[0m\u001b[0;34m\u001b[0m\u001b[0m\n\u001b[0;32m--> 138\u001b[0;31m             \u001b[0;32mreturn\u001b[0m \u001b[0mself\u001b[0m\u001b[0;34m.\u001b[0m\u001b[0mchildren\u001b[0m\u001b[0;34m[\u001b[0m\u001b[0mdim_child\u001b[0m\u001b[0;34m]\u001b[0m\u001b[0;34m.\u001b[0m\u001b[0mpredict\u001b[0m\u001b[0;34m(\u001b[0m\u001b[0mfeature\u001b[0m\u001b[0;34m)\u001b[0m\u001b[0;34m\u001b[0m\u001b[0m\n\u001b[0m\u001b[1;32m    139\u001b[0m         \u001b[0;32melse\u001b[0m\u001b[0;34m:\u001b[0m\u001b[0;34m\u001b[0m\u001b[0m\n\u001b[1;32m    140\u001b[0m             \u001b[0;32mreturn\u001b[0m \u001b[0mself\u001b[0m\u001b[0;34m.\u001b[0m\u001b[0mcls_max\u001b[0m\u001b[0;34m\u001b[0m\u001b[0m\n",
      "\u001b[0;32m~/Desktop/PA1/hw1_dt.py\u001b[0m in \u001b[0;36mpredict\u001b[0;34m(self, feature)\u001b[0m\n\u001b[1;32m    135\u001b[0m     \u001b[0;32mdef\u001b[0m \u001b[0mpredict\u001b[0m\u001b[0;34m(\u001b[0m\u001b[0mself\u001b[0m\u001b[0;34m,\u001b[0m \u001b[0mfeature\u001b[0m\u001b[0;34m)\u001b[0m\u001b[0;34m:\u001b[0m\u001b[0;34m\u001b[0m\u001b[0m\n\u001b[1;32m    136\u001b[0m         \u001b[0;32mif\u001b[0m \u001b[0mself\u001b[0m\u001b[0;34m.\u001b[0m\u001b[0msplittable\u001b[0m\u001b[0;34m:\u001b[0m\u001b[0;34m\u001b[0m\u001b[0m\n\u001b[0;32m--> 137\u001b[0;31m             \u001b[0mdim_child\u001b[0m \u001b[0;34m=\u001b[0m \u001b[0mself\u001b[0m\u001b[0;34m.\u001b[0m\u001b[0mfeature_uniq_split\u001b[0m\u001b[0;34m.\u001b[0m\u001b[0mindex\u001b[0m\u001b[0;34m(\u001b[0m\u001b[0mfeature\u001b[0m\u001b[0;34m[\u001b[0m\u001b[0mself\u001b[0m\u001b[0;34m.\u001b[0m\u001b[0mdim_split\u001b[0m\u001b[0;34m]\u001b[0m\u001b[0;34m)\u001b[0m\u001b[0;34m\u001b[0m\u001b[0m\n\u001b[0m\u001b[1;32m    138\u001b[0m             \u001b[0;32mreturn\u001b[0m \u001b[0mself\u001b[0m\u001b[0;34m.\u001b[0m\u001b[0mchildren\u001b[0m\u001b[0;34m[\u001b[0m\u001b[0mdim_child\u001b[0m\u001b[0;34m]\u001b[0m\u001b[0;34m.\u001b[0m\u001b[0mpredict\u001b[0m\u001b[0;34m(\u001b[0m\u001b[0mfeature\u001b[0m\u001b[0;34m)\u001b[0m\u001b[0;34m\u001b[0m\u001b[0m\n\u001b[1;32m    139\u001b[0m         \u001b[0;32melse\u001b[0m\u001b[0;34m:\u001b[0m\u001b[0;34m\u001b[0m\u001b[0m\n",
      "\u001b[0;31mValueError\u001b[0m: 'b' is not in list"
     ]
    }
   ],
   "source": [
    "# data\n",
    "X_test, y_test = data.sample_decision_tree_test()\n",
    "\n",
    "# testing\n",
    "y_est_test = dTree.predict(X_test)\n",
    "test_accu = accuracy_score(y_est_test, y_test)\n",
    "print('test_accu', test_accu)"
   ]
  },
  {
   "cell_type": "markdown",
   "metadata": {},
   "source": [
    "## Part 2.3 Train and Predict\n",
    "### 2.3.1\n",
    "- Load data (features and values) from function data.load_decision_tree_data.\n",
    "- Train your decision tree"
   ]
  },
  {
   "cell_type": "code",
   "execution_count": 10,
   "metadata": {},
   "outputs": [
    {
     "ename": "IndexError",
     "evalue": "index 3 is out of bounds for axis 0 with size 3",
     "output_type": "error",
     "traceback": [
      "\u001b[0;31m---------------------------------------------------------------------------\u001b[0m",
      "\u001b[0;31mIndexError\u001b[0m                                Traceback (most recent call last)",
      "\u001b[0;32m<ipython-input-10-09ec5bfa4d27>\u001b[0m in \u001b[0;36m<module>\u001b[0;34m()\u001b[0m\n\u001b[1;32m      6\u001b[0m \u001b[0;34m\u001b[0m\u001b[0m\n\u001b[1;32m      7\u001b[0m \u001b[0;31m# training\u001b[0m\u001b[0;34m\u001b[0m\u001b[0;34m\u001b[0m\u001b[0m\n\u001b[0;32m----> 8\u001b[0;31m \u001b[0mdTree\u001b[0m\u001b[0;34m.\u001b[0m\u001b[0mtrain\u001b[0m\u001b[0;34m(\u001b[0m\u001b[0mX_train\u001b[0m\u001b[0;34m.\u001b[0m\u001b[0mtolist\u001b[0m\u001b[0;34m(\u001b[0m\u001b[0;34m)\u001b[0m\u001b[0;34m,\u001b[0m \u001b[0my_train\u001b[0m\u001b[0;34m.\u001b[0m\u001b[0mtolist\u001b[0m\u001b[0;34m(\u001b[0m\u001b[0;34m)\u001b[0m\u001b[0;34m)\u001b[0m\u001b[0;34m\u001b[0m\u001b[0m\n\u001b[0m",
      "\u001b[0;32m~/Desktop/PA1/hw1_dt.py\u001b[0m in \u001b[0;36mtrain\u001b[0;34m(self, features, labels)\u001b[0m\n\u001b[1;32m     30\u001b[0m         \u001b[0mself\u001b[0m\u001b[0;34m.\u001b[0m\u001b[0mroot_node\u001b[0m \u001b[0;34m=\u001b[0m \u001b[0mTreeNode\u001b[0m\u001b[0;34m(\u001b[0m\u001b[0mfeatures\u001b[0m\u001b[0;34m,\u001b[0m \u001b[0mlabels\u001b[0m\u001b[0;34m,\u001b[0m \u001b[0mnum_cls\u001b[0m\u001b[0;34m)\u001b[0m\u001b[0;34m\u001b[0m\u001b[0m\n\u001b[1;32m     31\u001b[0m         \u001b[0;32mif\u001b[0m \u001b[0mself\u001b[0m\u001b[0;34m.\u001b[0m\u001b[0mroot_node\u001b[0m\u001b[0;34m.\u001b[0m\u001b[0msplittable\u001b[0m\u001b[0;34m:\u001b[0m\u001b[0;34m\u001b[0m\u001b[0m\n\u001b[0;32m---> 32\u001b[0;31m             \u001b[0mself\u001b[0m\u001b[0;34m.\u001b[0m\u001b[0mroot_node\u001b[0m\u001b[0;34m.\u001b[0m\u001b[0msplit\u001b[0m\u001b[0;34m(\u001b[0m\u001b[0;34m)\u001b[0m\u001b[0;34m\u001b[0m\u001b[0m\n\u001b[0m\u001b[1;32m     33\u001b[0m \u001b[0;34m\u001b[0m\u001b[0m\n\u001b[1;32m     34\u001b[0m         \u001b[0;32mreturn\u001b[0m\u001b[0;34m\u001b[0m\u001b[0m\n",
      "\u001b[0;32m~/Desktop/PA1/hw1_dt.py\u001b[0m in \u001b[0;36msplit\u001b[0;34m(self)\u001b[0m\n\u001b[1;32m     93\u001b[0m                 \u001b[0my\u001b[0m \u001b[0;34m=\u001b[0m \u001b[0mnp\u001b[0m\u001b[0;34m.\u001b[0m\u001b[0marray\u001b[0m\u001b[0;34m(\u001b[0m\u001b[0mself\u001b[0m\u001b[0;34m.\u001b[0m\u001b[0mlabels\u001b[0m\u001b[0;34m)\u001b[0m\u001b[0;34m[\u001b[0m\u001b[0mnp\u001b[0m\u001b[0;34m.\u001b[0m\u001b[0mwhere\u001b[0m\u001b[0;34m(\u001b[0m\u001b[0mcurrent_x\u001b[0m \u001b[0;34m==\u001b[0m \u001b[0mval\u001b[0m\u001b[0;34m)\u001b[0m\u001b[0;34m]\u001b[0m\u001b[0;34m\u001b[0m\u001b[0m\n\u001b[1;32m     94\u001b[0m                 \u001b[0;32mfor\u001b[0m \u001b[0mcurrent_y\u001b[0m \u001b[0;32min\u001b[0m \u001b[0my\u001b[0m\u001b[0;34m:\u001b[0m\u001b[0;34m\u001b[0m\u001b[0m\n\u001b[0;32m---> 95\u001b[0;31m                     \u001b[0mbranches\u001b[0m\u001b[0;34m[\u001b[0m\u001b[0mi\u001b[0m\u001b[0;34m,\u001b[0m \u001b[0mcurrent_y\u001b[0m\u001b[0;34m]\u001b[0m \u001b[0;34m+=\u001b[0m \u001b[0;36m1\u001b[0m\u001b[0;34m\u001b[0m\u001b[0m\n\u001b[0m\u001b[1;32m     96\u001b[0m \u001b[0;34m\u001b[0m\u001b[0m\n\u001b[1;32m     97\u001b[0m             \u001b[0mtotal_entropy\u001b[0m \u001b[0;34m=\u001b[0m \u001b[0;36m0\u001b[0m\u001b[0;34m\u001b[0m\u001b[0m\n",
      "\u001b[0;31mIndexError\u001b[0m: index 3 is out of bounds for axis 0 with size 3"
     ]
    }
   ],
   "source": [
    "#load data\n",
    "X_train, y_train, X_test, y_test = data.load_decision_tree_data()\n",
    "\n",
    "# set classifier\n",
    "dTree = decision_tree.DecisionTree()\n",
    "\n",
    "# training\n",
    "dTree.train(X_train.tolist(), y_train.tolist())"
   ]
  },
  {
   "cell_type": "markdown",
   "metadata": {},
   "source": [
    "### 2.3.2\n",
    "- Print your decision tree."
   ]
  },
  {
   "cell_type": "code",
   "execution_count": 4,
   "metadata": {},
   "outputs": [
    {
     "name": "stdout",
     "output_type": "stream",
     "text": [
      "branch 0{\n",
      "\tdeep: 0\n",
      "\tnum of samples for each class: 845 : 260 : 0 \n"
     ]
    },
    {
     "ename": "TypeError",
     "evalue": "unsupported format string passed to NoneType.__format__",
     "output_type": "error",
     "traceback": [
      "\u001b[0;31m---------------------------------------------------------------------------\u001b[0m",
      "\u001b[0;31mTypeError\u001b[0m                                 Traceback (most recent call last)",
      "\u001b[0;32m<ipython-input-4-1fd5f11cd68c>\u001b[0m in \u001b[0;36m<module>\u001b[0;34m()\u001b[0m\n\u001b[1;32m      1\u001b[0m \u001b[0;31m# print\u001b[0m\u001b[0;34m\u001b[0m\u001b[0;34m\u001b[0m\u001b[0m\n\u001b[0;32m----> 2\u001b[0;31m \u001b[0mUtils\u001b[0m\u001b[0;34m.\u001b[0m\u001b[0mprint_tree\u001b[0m\u001b[0;34m(\u001b[0m\u001b[0mdTree\u001b[0m\u001b[0;34m)\u001b[0m\u001b[0;34m\u001b[0m\u001b[0m\n\u001b[0m",
      "\u001b[0;32m~/Desktop/PA1/utils.py\u001b[0m in \u001b[0;36mprint_tree\u001b[0;34m(decisionTree, node, name, indent, deep)\u001b[0m\n\u001b[1;32m     60\u001b[0m \u001b[0;34m\u001b[0m\u001b[0m\n\u001b[1;32m     61\u001b[0m     \u001b[0;32mif\u001b[0m \u001b[0mnode\u001b[0m\u001b[0;34m.\u001b[0m\u001b[0msplittable\u001b[0m\u001b[0;34m:\u001b[0m\u001b[0;34m\u001b[0m\u001b[0m\n\u001b[0;32m---> 62\u001b[0;31m         \u001b[0mprint\u001b[0m\u001b[0;34m(\u001b[0m\u001b[0mindent\u001b[0m \u001b[0;34m+\u001b[0m \u001b[0;34m'\\tsplit by dim {:d}'\u001b[0m\u001b[0;34m.\u001b[0m\u001b[0mformat\u001b[0m\u001b[0;34m(\u001b[0m\u001b[0mnode\u001b[0m\u001b[0;34m.\u001b[0m\u001b[0mdim_split\u001b[0m\u001b[0;34m)\u001b[0m\u001b[0;34m)\u001b[0m\u001b[0;34m\u001b[0m\u001b[0m\n\u001b[0m\u001b[1;32m     63\u001b[0m         \u001b[0;32mfor\u001b[0m \u001b[0midx_child\u001b[0m\u001b[0;34m,\u001b[0m \u001b[0mchild\u001b[0m \u001b[0;32min\u001b[0m \u001b[0menumerate\u001b[0m\u001b[0;34m(\u001b[0m\u001b[0mnode\u001b[0m\u001b[0;34m.\u001b[0m\u001b[0mchildren\u001b[0m\u001b[0;34m)\u001b[0m\u001b[0;34m:\u001b[0m\u001b[0;34m\u001b[0m\u001b[0m\n\u001b[1;32m     64\u001b[0m             \u001b[0mprint_tree\u001b[0m\u001b[0;34m(\u001b[0m\u001b[0mdecisionTree\u001b[0m\u001b[0;34m,\u001b[0m \u001b[0mnode\u001b[0m\u001b[0;34m=\u001b[0m\u001b[0mchild\u001b[0m\u001b[0;34m,\u001b[0m \u001b[0mname\u001b[0m\u001b[0;34m=\u001b[0m\u001b[0;34m'\\t'\u001b[0m \u001b[0;34m+\u001b[0m \u001b[0mname\u001b[0m \u001b[0;34m+\u001b[0m \u001b[0;34m'->'\u001b[0m \u001b[0;34m+\u001b[0m \u001b[0mstr\u001b[0m\u001b[0;34m(\u001b[0m\u001b[0midx_child\u001b[0m\u001b[0;34m)\u001b[0m\u001b[0;34m,\u001b[0m \u001b[0mindent\u001b[0m\u001b[0;34m=\u001b[0m\u001b[0mindent\u001b[0m \u001b[0;34m+\u001b[0m \u001b[0;34m'\\t'\u001b[0m\u001b[0;34m,\u001b[0m \u001b[0mdeep\u001b[0m\u001b[0;34m=\u001b[0m\u001b[0mdeep\u001b[0m\u001b[0;34m+\u001b[0m\u001b[0;36m1\u001b[0m\u001b[0;34m)\u001b[0m\u001b[0;34m\u001b[0m\u001b[0m\n",
      "\u001b[0;31mTypeError\u001b[0m: unsupported format string passed to NoneType.__format__"
     ]
    }
   ],
   "source": [
    "# print\n",
    "Utils.print_tree(dTree)"
   ]
  },
  {
   "cell_type": "markdown",
   "metadata": {},
   "source": [
    "### 2.3.3\n",
    "- do prediction on test dataset."
   ]
  },
  {
   "cell_type": "code",
   "execution_count": 5,
   "metadata": {},
   "outputs": [
    {
     "ename": "AttributeError",
     "evalue": "'NoneType' object has no attribute 'index'",
     "output_type": "error",
     "traceback": [
      "\u001b[0;31m---------------------------------------------------------------------------\u001b[0m",
      "\u001b[0;31mAttributeError\u001b[0m                            Traceback (most recent call last)",
      "\u001b[0;32m<ipython-input-5-b4b97ed8380a>\u001b[0m in \u001b[0;36m<module>\u001b[0;34m()\u001b[0m\n\u001b[1;32m      1\u001b[0m \u001b[0;32mimport\u001b[0m \u001b[0mjson\u001b[0m\u001b[0;34m\u001b[0m\u001b[0m\n\u001b[1;32m      2\u001b[0m \u001b[0;31m# testing\u001b[0m\u001b[0;34m\u001b[0m\u001b[0;34m\u001b[0m\u001b[0m\n\u001b[0;32m----> 3\u001b[0;31m \u001b[0my_est_test\u001b[0m \u001b[0;34m=\u001b[0m \u001b[0mdTree\u001b[0m\u001b[0;34m.\u001b[0m\u001b[0mpredict\u001b[0m\u001b[0;34m(\u001b[0m\u001b[0mX_test\u001b[0m\u001b[0;34m)\u001b[0m\u001b[0;34m\u001b[0m\u001b[0m\n\u001b[0m\u001b[1;32m      4\u001b[0m \u001b[0mtest_accu\u001b[0m \u001b[0;34m=\u001b[0m \u001b[0maccuracy_score\u001b[0m\u001b[0;34m(\u001b[0m\u001b[0my_est_test\u001b[0m\u001b[0;34m,\u001b[0m \u001b[0my_test\u001b[0m\u001b[0;34m)\u001b[0m\u001b[0;34m\u001b[0m\u001b[0m\n\u001b[1;32m      5\u001b[0m \u001b[0mprint\u001b[0m\u001b[0;34m(\u001b[0m\u001b[0;34m'test_accu'\u001b[0m\u001b[0;34m,\u001b[0m \u001b[0mtest_accu\u001b[0m\u001b[0;34m)\u001b[0m\u001b[0;34m\u001b[0m\u001b[0m\n",
      "\u001b[0;32m~/Desktop/PA1/hw1_dt.py\u001b[0m in \u001b[0;36mpredict\u001b[0;34m(self, features)\u001b[0m\n\u001b[1;32m     40\u001b[0m         \u001b[0my_pred\u001b[0m \u001b[0;34m=\u001b[0m \u001b[0;34m[\u001b[0m\u001b[0;34m]\u001b[0m\u001b[0;34m\u001b[0m\u001b[0m\n\u001b[1;32m     41\u001b[0m         \u001b[0;32mfor\u001b[0m \u001b[0midx\u001b[0m\u001b[0;34m,\u001b[0m \u001b[0mfeature\u001b[0m \u001b[0;32min\u001b[0m \u001b[0menumerate\u001b[0m\u001b[0;34m(\u001b[0m\u001b[0mfeatures\u001b[0m\u001b[0;34m)\u001b[0m\u001b[0;34m:\u001b[0m\u001b[0;34m\u001b[0m\u001b[0m\n\u001b[0;32m---> 42\u001b[0;31m             \u001b[0mpred\u001b[0m \u001b[0;34m=\u001b[0m \u001b[0mself\u001b[0m\u001b[0;34m.\u001b[0m\u001b[0mroot_node\u001b[0m\u001b[0;34m.\u001b[0m\u001b[0mpredict\u001b[0m\u001b[0;34m(\u001b[0m\u001b[0mfeature\u001b[0m\u001b[0;34m)\u001b[0m\u001b[0;34m\u001b[0m\u001b[0m\n\u001b[0m\u001b[1;32m     43\u001b[0m             \u001b[0my_pred\u001b[0m\u001b[0;34m.\u001b[0m\u001b[0mappend\u001b[0m\u001b[0;34m(\u001b[0m\u001b[0mpred\u001b[0m\u001b[0;34m)\u001b[0m\u001b[0;34m\u001b[0m\u001b[0m\n\u001b[1;32m     44\u001b[0m             \u001b[0;31m# print (\"feature: \", feature)\u001b[0m\u001b[0;34m\u001b[0m\u001b[0;34m\u001b[0m\u001b[0m\n",
      "\u001b[0;32m~/Desktop/PA1/hw1_dt.py\u001b[0m in \u001b[0;36mpredict\u001b[0;34m(self, feature)\u001b[0m\n\u001b[1;32m    135\u001b[0m     \u001b[0;32mdef\u001b[0m \u001b[0mpredict\u001b[0m\u001b[0;34m(\u001b[0m\u001b[0mself\u001b[0m\u001b[0;34m,\u001b[0m \u001b[0mfeature\u001b[0m\u001b[0;34m)\u001b[0m\u001b[0;34m:\u001b[0m\u001b[0;34m\u001b[0m\u001b[0m\n\u001b[1;32m    136\u001b[0m         \u001b[0;32mif\u001b[0m \u001b[0mself\u001b[0m\u001b[0;34m.\u001b[0m\u001b[0msplittable\u001b[0m\u001b[0;34m:\u001b[0m\u001b[0;34m\u001b[0m\u001b[0m\n\u001b[0;32m--> 137\u001b[0;31m             \u001b[0mdim_child\u001b[0m \u001b[0;34m=\u001b[0m \u001b[0mself\u001b[0m\u001b[0;34m.\u001b[0m\u001b[0mfeature_uniq_split\u001b[0m\u001b[0;34m.\u001b[0m\u001b[0mindex\u001b[0m\u001b[0;34m(\u001b[0m\u001b[0mfeature\u001b[0m\u001b[0;34m[\u001b[0m\u001b[0mself\u001b[0m\u001b[0;34m.\u001b[0m\u001b[0mdim_split\u001b[0m\u001b[0;34m]\u001b[0m\u001b[0;34m)\u001b[0m\u001b[0;34m\u001b[0m\u001b[0m\n\u001b[0m\u001b[1;32m    138\u001b[0m             \u001b[0;32mreturn\u001b[0m \u001b[0mself\u001b[0m\u001b[0;34m.\u001b[0m\u001b[0mchildren\u001b[0m\u001b[0;34m[\u001b[0m\u001b[0mdim_child\u001b[0m\u001b[0;34m]\u001b[0m\u001b[0;34m.\u001b[0m\u001b[0mpredict\u001b[0m\u001b[0;34m(\u001b[0m\u001b[0mfeature\u001b[0m\u001b[0;34m)\u001b[0m\u001b[0;34m\u001b[0m\u001b[0m\n\u001b[1;32m    139\u001b[0m         \u001b[0;32melse\u001b[0m\u001b[0;34m:\u001b[0m\u001b[0;34m\u001b[0m\u001b[0m\n",
      "\u001b[0;31mAttributeError\u001b[0m: 'NoneType' object has no attribute 'index'"
     ]
    }
   ],
   "source": [
    "import json\n",
    "# testing\n",
    "y_est_test = dTree.predict(X_test)\n",
    "test_accu = accuracy_score(y_est_test, y_test)\n",
    "print('test_accu', test_accu)"
   ]
  },
  {
   "cell_type": "markdown",
   "metadata": {},
   "source": [
    "## Part 2.4 Pruning The Tree\n",
    "Sometimes, in order to prevent overfitting. We need to pruning our Decition Tree. There are several approaches to avoiding overfitting in building decision trees. \n",
    "\n",
    "- Pre-pruning that stop growing the tree earlier, before it perfectly classifies the training set.\n",
    "- Post-pruning that allows the tree to perfectly classify the training set, and then post prune the tree. \n",
    "\n",
    "Practically, the second approach of post-pruning overfit trees is more successful because it is not easy to precisely estimate when to stop growing the tree.\n",
    "We will use Reduced Error Pruning, as one of Post-pruning in this part.\n",
    "```\n",
    "Reduced Error Pruning\n",
    "0. Split data into training and validation sets.\n",
    "1. Do until further pruning is harmful:\n",
    "2. Evaluate impact on validation set of pruning each possible node (plus those below it)\n",
    "3. Greedily remove the one that most improves validation set accuracy\n",
    "- Produces smallest version of most accurate subtree.\n",
    "- Requires that a lot of data be available.\n",
    "```\n",
    "For Pruning of Decision Tree, you can refer [Reduce Error Pruning](http://jmvidal.cse.sc.edu/talks/decisiontrees/reducederrorprun.html?style=White) and P69 of Textbook: Machine Learning -Tom Mitchell.\n",
    "\n",
    "### 2.4.1 \n",
    "**Hint: in this part, you can add another parameters or functions in TreeNode class and DecisionTree class for your convenience. But your changes should not influent results of previous parts.**<br>\n",
    "implement the reduced_error_pruning function on util.py.\n",
    "\n",
    "```\n",
    "def reduced_error_pruning(decitionTree):\n",
    "# input: \n",
    "    - decitionTree: decitionTree trained based on training data set.\n",
    "    - X_test: List[List[any]] test data, num_cases*num_attributes\n",
    "    - y_test: List[any] test labels, num_cases*1\n",
    "```"
   ]
  },
  {
   "cell_type": "code",
   "execution_count": null,
   "metadata": {
    "collapsed": true
   },
   "outputs": [],
   "source": [
    "Utils.reduced_error_pruning(dTree, X_test, y_test)"
   ]
  },
  {
   "cell_type": "markdown",
   "metadata": {},
   "source": [
    "### 2.4.2\n",
    "Test your prediction accuracy on validation dataset after pruning."
   ]
  },
  {
   "cell_type": "code",
   "execution_count": null,
   "metadata": {
    "collapsed": true
   },
   "outputs": [],
   "source": [
    "y_est_test = dTree.predict(X_test)\n",
    "test_accu = accuracy_score(y_est_test, y_test)\n",
    "print('test_accu', test_accu)"
   ]
  },
  {
   "cell_type": "markdown",
   "metadata": {},
   "source": [
    "### 2.4.3\n",
    "Print your decision tree after pruning."
   ]
  },
  {
   "cell_type": "code",
   "execution_count": null,
   "metadata": {
    "collapsed": true
   },
   "outputs": [],
   "source": [
    "Utils.print_tree(dTree)"
   ]
  },
  {
   "cell_type": "markdown",
   "metadata": {},
   "source": [
    "## Grading Guidline\n",
    "1. Information_Gain function - 10 points <br>\n",
    "we will test your Infomation Gain function on another ten inputs. To receive full credits of this part, your function should be able to output right valus.\n",
    "2. Train your decision tree - 15 points <br>\n",
    "we will test your decision tree after training on training dataset. To receive full credit of this part, your algorithm will generate the identical decision tree as our answer.\n",
    "3. Prediction of decision tree - 10 points <br>\n",
    "we will use another dataset to test your prediction part of decision tree, you can assume that test dataset has identical attributs and values as traning dataset. To receive full credit of this part, your algorithm will generate the identical prediction of our answer.\n",
    "4. Pruning of decision tree - 15 points <br>\n",
    "we will test your decision tree after pruning. To receive full credit of this part, your algorithm will generate the identical decision tree as our answer."
   ]
  },
  {
   "cell_type": "markdown",
   "metadata": {},
   "source": [
    "Good Luck! : )"
   ]
  }
 ],
 "metadata": {
  "anaconda-cloud": {},
  "kernelspec": {
   "display_name": "Python 3",
   "language": "python",
   "name": "python3"
  },
  "language_info": {
   "codemirror_mode": {
    "name": "ipython",
    "version": 3
   },
   "file_extension": ".py",
   "mimetype": "text/x-python",
   "name": "python",
   "nbconvert_exporter": "python",
   "pygments_lexer": "ipython3",
   "version": "3.6.3"
  }
 },
 "nbformat": 4,
 "nbformat_minor": 2
}
